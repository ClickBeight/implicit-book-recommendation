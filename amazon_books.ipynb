{
 "cells": [
  {
   "cell_type": "markdown",
   "id": "368b8e5b-ffeb-45e5-b4a7-abb4af466e1f",
   "metadata": {},
   "source": [
    "# Book Review Data from Goodreads : Preprocessing\n",
    "\n",
    "+ Using this kaggle dataset: https://www.kaggle.com/datasets/bahramjannesarr/goodreads-book-datasets-10m?select=book1000k-1100k.csv\n",
    "+ Data source: Goodreads (before the API was closed down)\n",
    "+ Books: ~ 1.8M\n",
    "+ Reviews: ~ 100.000"
   ]
  },
  {
   "cell_type": "code",
   "execution_count": 6,
   "id": "cb87ac9f-aebe-413f-8073-8818f44c7d3b",
   "metadata": {},
   "outputs": [],
   "source": [
    "import json\n",
    "import sys\n",
    "import time\n",
    "from pathlib import Path\n",
    "from typing import List\n",
    "\n",
    "import implicit\n",
    "import pandas as pd\n",
    "from scipy.sparse import csr_matrix, lil_matrix, save_npz"
   ]
  },
  {
   "cell_type": "code",
   "execution_count": 7,
   "id": "d6821203-57e6-4bf1-a31e-d6e6f071f06f",
   "metadata": {},
   "outputs": [],
   "source": [
    "data_files = [x.name for x in Path(\".\").joinpath(\"data\").glob(\"**/*\") if x.is_file() and \"checkpoint\" not in str(x)]\n",
    "book_files = [f\"data/{x}\" for x in data_files if x.startswith(\"book\")]\n",
    "rating_files = [f\"data/{x}\" for x in data_files if x.startswith(\"user\")]"
   ]
  },
  {
   "cell_type": "code",
   "execution_count": 8,
   "id": "27333f91-539f-4c4f-9590-43c9cf5038e2",
   "metadata": {},
   "outputs": [],
   "source": [
    "def df_from_files(files: List) -> pd.DataFrame:\n",
    "    dfs = []\n",
    "    for filename in files:\n",
    "        df = pd.read_csv(filename, index_col=None, header=0)\n",
    "        dfs.append(df)    \n",
    "    df = pd.concat(dfs, axis=0, ignore_index=True)\n",
    "    return df"
   ]
  },
  {
   "cell_type": "code",
   "execution_count": 9,
   "id": "e1e828e2-4774-4c26-9d94-c47cb5bfb693",
   "metadata": {},
   "outputs": [],
   "source": [
    "books = df_from_files(book_files)\n",
    "ratings = df_from_files(rating_files)"
   ]
  },
  {
   "cell_type": "markdown",
   "id": "a1577ee9-26ce-4f7c-aa05-621c6c2596a3",
   "metadata": {},
   "source": [
    "## Books"
   ]
  },
  {
   "cell_type": "code",
   "execution_count": 10,
   "id": "9b37c364-ba68-475c-b6c9-cb2d7b9aac0f",
   "metadata": {},
   "outputs": [
    {
     "data": {
      "text/plain": [
       "1850310"
      ]
     },
     "execution_count": 10,
     "metadata": {},
     "output_type": "execute_result"
    }
   ],
   "source": [
    "len(books)"
   ]
  },
  {
   "cell_type": "code",
   "execution_count": 11,
   "id": "d65477e6-c0e6-48e9-aeca-be3f83468b81",
   "metadata": {},
   "outputs": [
    {
     "data": {
      "text/plain": [
       "Name\n",
       "Collected Poems                                                             24\n",
       "Jane Eyre                                                                   24\n",
       "Selected Poems                                                              24\n",
       "Little Women                                                                23\n",
       "Hamlet                                                                      23\n",
       "                                                                            ..\n",
       "My Sweetest Friend: Recipes for the Perfect Friendship                       1\n",
       "The King Of The Golden River: A Story                                        1\n",
       "The Miracles of Archangel Michael                                            1\n",
       "Fine Homebuilding on Baths and Kitchens                                      1\n",
       "The Adaptive Economy: Adjustment Policies in Small, Low-Income Countries     1\n",
       "Name: count, Length: 1636235, dtype: int64"
      ]
     },
     "execution_count": 11,
     "metadata": {},
     "output_type": "execute_result"
    }
   ],
   "source": [
    "books[\"Name\"].value_counts()"
   ]
  },
  {
   "cell_type": "code",
   "execution_count": 12,
   "id": "4e36ee5f-27d5-4a0c-805d-9ebb93ebc099",
   "metadata": {},
   "outputs": [
    {
     "data": {
      "text/html": [
       "<div>\n",
       "<style scoped>\n",
       "    .dataframe tbody tr th:only-of-type {\n",
       "        vertical-align: middle;\n",
       "    }\n",
       "\n",
       "    .dataframe tbody tr th {\n",
       "        vertical-align: top;\n",
       "    }\n",
       "\n",
       "    .dataframe thead th {\n",
       "        text-align: right;\n",
       "    }\n",
       "</style>\n",
       "<table border=\"1\" class=\"dataframe\">\n",
       "  <thead>\n",
       "    <tr style=\"text-align: right;\">\n",
       "      <th></th>\n",
       "      <th>Id</th>\n",
       "      <th>Name</th>\n",
       "      <th>Authors</th>\n",
       "      <th>ISBN</th>\n",
       "      <th>Rating</th>\n",
       "      <th>PublishYear</th>\n",
       "      <th>PublishMonth</th>\n",
       "      <th>PublishDay</th>\n",
       "      <th>Publisher</th>\n",
       "      <th>RatingDist5</th>\n",
       "      <th>...</th>\n",
       "      <th>RatingDist3</th>\n",
       "      <th>RatingDist2</th>\n",
       "      <th>RatingDist1</th>\n",
       "      <th>RatingDistTotal</th>\n",
       "      <th>CountsOfReview</th>\n",
       "      <th>Language</th>\n",
       "      <th>pagesNumber</th>\n",
       "      <th>Description</th>\n",
       "      <th>Count of text reviews</th>\n",
       "      <th>PagesNumber</th>\n",
       "    </tr>\n",
       "  </thead>\n",
       "  <tbody>\n",
       "    <tr>\n",
       "      <th>232891</th>\n",
       "      <td>1022863</td>\n",
       "      <td>Dune</td>\n",
       "      <td>Frank Herbert</td>\n",
       "      <td>9997516788</td>\n",
       "      <td>4.23</td>\n",
       "      <td>1965</td>\n",
       "      <td>1</td>\n",
       "      <td>6</td>\n",
       "      <td>Chilton</td>\n",
       "      <td>5:363642</td>\n",
       "      <td>...</td>\n",
       "      <td>3:95642</td>\n",
       "      <td>2:28756</td>\n",
       "      <td>1:16077</td>\n",
       "      <td>total:712319</td>\n",
       "      <td>35</td>\n",
       "      <td>eng</td>\n",
       "      <td>507.0</td>\n",
       "      <td>Set in the far future amidst a sprawling feuda...</td>\n",
       "      <td>35.0</td>\n",
       "      <td>NaN</td>\n",
       "    </tr>\n",
       "    <tr>\n",
       "      <th>1095863</th>\n",
       "      <td>53732</td>\n",
       "      <td>Dune</td>\n",
       "      <td>Frank Herbert</td>\n",
       "      <td>NaN</td>\n",
       "      <td>4.23</td>\n",
       "      <td>1990</td>\n",
       "      <td>1</td>\n",
       "      <td>9</td>\n",
       "      <td>Ace/Berkley Books</td>\n",
       "      <td>5:351539</td>\n",
       "      <td>...</td>\n",
       "      <td>3:92772</td>\n",
       "      <td>2:27968</td>\n",
       "      <td>1:15681</td>\n",
       "      <td>total:689160</td>\n",
       "      <td>772</td>\n",
       "      <td>eng</td>\n",
       "      <td>535.0</td>\n",
       "      <td>NaN</td>\n",
       "      <td>NaN</td>\n",
       "      <td>NaN</td>\n",
       "    </tr>\n",
       "  </tbody>\n",
       "</table>\n",
       "<p>2 rows × 21 columns</p>\n",
       "</div>"
      ],
      "text/plain": [
       "              Id  Name        Authors        ISBN  Rating  PublishYear  \\\n",
       "232891   1022863  Dune  Frank Herbert  9997516788    4.23         1965   \n",
       "1095863    53732  Dune  Frank Herbert         NaN    4.23         1990   \n",
       "\n",
       "         PublishMonth  PublishDay          Publisher RatingDist5  ...  \\\n",
       "232891              1           6            Chilton    5:363642  ...   \n",
       "1095863             1           9  Ace/Berkley Books    5:351539  ...   \n",
       "\n",
       "        RatingDist3 RatingDist2 RatingDist1 RatingDistTotal CountsOfReview  \\\n",
       "232891      3:95642     2:28756     1:16077    total:712319             35   \n",
       "1095863     3:92772     2:27968     1:15681    total:689160            772   \n",
       "\n",
       "         Language pagesNumber  \\\n",
       "232891        eng       507.0   \n",
       "1095863       eng       535.0   \n",
       "\n",
       "                                               Description  \\\n",
       "232891   Set in the far future amidst a sprawling feuda...   \n",
       "1095863                                                NaN   \n",
       "\n",
       "        Count of text reviews  PagesNumber  \n",
       "232891                   35.0          NaN  \n",
       "1095863                   NaN          NaN  \n",
       "\n",
       "[2 rows x 21 columns]"
      ]
     },
     "execution_count": 12,
     "metadata": {},
     "output_type": "execute_result"
    }
   ],
   "source": [
    "books[books[\"Name\"] == \"Dune\"]"
   ]
  },
  {
   "cell_type": "code",
   "execution_count": 13,
   "id": "58160348-4e85-4209-9c41-3e5ddb2544bd",
   "metadata": {},
   "outputs": [],
   "source": [
    "books[\"title-author\"] = books[\"Name\"] + \" - \" + books[\"Authors\"]"
   ]
  },
  {
   "cell_type": "code",
   "execution_count": 14,
   "id": "7a9e53ff-fb43-4e49-a488-f2deb27aee01",
   "metadata": {},
   "outputs": [
    {
     "data": {
      "text/plain": [
       "title-author\n",
       "The Scarlet Letter - Nathaniel Hawthorne                                                         21\n",
       "Jane Eyre - Charlotte Brontë                                                                     21\n",
       "Hamlet - William Shakespeare                                                                     20\n",
       "Madame Bovary - Gustave Flaubert                                                                 20\n",
       "Mansfield Park - Jane Austen                                                                     20\n",
       "                                                                                                 ..\n",
       "Suburban Escape: The Art of California Sprawl - Ann M. Wolfe                                      2\n",
       "Of Bicycles, Bakelites, and Bulbs: Toward a Theory of Sociotechnical Change - Wiebe E. Bijker     2\n",
       "The Making of a Confederate: Walter Lenoir's Civil War - William L. Barney                        2\n",
       "Playing for Keeps: Michael Jordan and the World He Made - David Halberstam                        2\n",
       "Cracks in the Pedestal: Ideology and Gender in Hollywood - Philip Green                           2\n",
       "Name: count, Length: 128962, dtype: int64"
      ]
     },
     "execution_count": 14,
     "metadata": {},
     "output_type": "execute_result"
    }
   ],
   "source": [
    "book_counts = books[\"title-author\"].value_counts()\n",
    "duplicate_book_counts = book_counts[book_counts > 1]\n",
    "duplicate_book_counts"
   ]
  },
  {
   "cell_type": "code",
   "execution_count": 15,
   "id": "66c31e9d-923b-485b-8f36-c473107e6514",
   "metadata": {},
   "outputs": [
    {
     "name": "stdout",
     "output_type": "stream",
     "text": [
      " [Loaded Cache]\n",
      " Cached progress\n"
     ]
    }
   ],
   "source": [
    "stages = [\" \", \"░\", \"▒\", \"▓\", \"█\"]\n",
    "\n",
    "most_reviewed_duplicates = {}\n",
    "total_duplicate_books = len(duplicate_book_counts.index)\n",
    "\n",
    "# load cached data\n",
    "with open('best_books.json', 'r') as f:\n",
    "    most_reviewed_duplicates = json.load(f)\n",
    "    if most_reviewed_duplicates:\n",
    "        print(\" [Loaded Cache]\")\n",
    "\n",
    "for i, book in enumerate(duplicate_book_counts.index):\n",
    "    is_cached = book in most_reviewed_duplicates\n",
    "    if is_cached:\n",
    "        # skip if already cached\n",
    "        continue\n",
    "        \n",
    "    duplicates = books[books[\"title-author\"] == book]\n",
    "    duplicates = duplicates[[\"Id\", \"title-author\", \"CountsOfReview\"]]\n",
    "    most_reviewed_entry = duplicates.loc[[(duplicates[\"CountsOfReview\"].idxmax())]]\n",
    "    book_id, title_author, _ = most_reviewed_entry.values[0]\n",
    "    most_reviewed_duplicates[title_author] = book_id\n",
    "\n",
    "    batch_size = 1000\n",
    "    mini_batch_size = 20\n",
    "    if (i % (mini_batch_size // len(stages))) == 0:\n",
    "        if (i % batch_size) == 0 and i > 0:\n",
    "            with open('best_books.json', 'w') as f:\n",
    "                json.dump(most_reviewed_duplicates, f)\n",
    "                print(\" Cached progress\")\n",
    "        mini_batches_done = (i % batch_size) // mini_batch_size\n",
    "        current_stage = stages[(i % mini_batch_size) // (mini_batch_size // len(stages))]\n",
    "        formatted_i = str(f\"{{:{len(str(total_duplicate_books))}d}}\").format(i)\n",
    "        percent_i = int((i / total_duplicate_books) * 100)\n",
    "        sys.stdout.write(\"\\r\" + \"▕\" + (\"█\" * (mini_batches_done)) + current_stage + \" \" * (((batch_size // mini_batch_size) - 1) - mini_batches_done) + \"▏\" + f\" [{formatted_i}/{total_duplicate_books}]\" + f\"({percent_i}%)\")\n",
    "        sys.stdout.flush()\n",
    "\n",
    "with open('best_books.json', 'w') as f:\n",
    "    json.dump(most_reviewed_duplicates, f)\n",
    "    print(\" Cached progress\")"
   ]
  },
  {
   "cell_type": "markdown",
   "id": "912abf05-8dd3-4dde-9024-3eef37e66605",
   "metadata": {
    "jp-MarkdownHeadingCollapsed": true
   },
   "source": [
    "## Ratings"
   ]
  },
  {
   "cell_type": "code",
   "execution_count": 46,
   "id": "b64e13a6-2811-42af-8f20-b143607b3872",
   "metadata": {},
   "outputs": [
    {
     "data": {
      "text/html": [
       "<div>\n",
       "<style scoped>\n",
       "    .dataframe tbody tr th:only-of-type {\n",
       "        vertical-align: middle;\n",
       "    }\n",
       "\n",
       "    .dataframe tbody tr th {\n",
       "        vertical-align: top;\n",
       "    }\n",
       "\n",
       "    .dataframe thead th {\n",
       "        text-align: right;\n",
       "    }\n",
       "</style>\n",
       "<table border=\"1\" class=\"dataframe\">\n",
       "  <thead>\n",
       "    <tr style=\"text-align: right;\">\n",
       "      <th></th>\n",
       "      <th>ID</th>\n",
       "      <th>Name</th>\n",
       "      <th>Rating</th>\n",
       "    </tr>\n",
       "  </thead>\n",
       "  <tbody>\n",
       "    <tr>\n",
       "      <th>0</th>\n",
       "      <td>6675</td>\n",
       "      <td>Baxter, the Pig Who Wanted to Be Kosher</td>\n",
       "      <td>it was amazing</td>\n",
       "    </tr>\n",
       "    <tr>\n",
       "      <th>1</th>\n",
       "      <td>6675</td>\n",
       "      <td>Set This House in Order</td>\n",
       "      <td>really liked it</td>\n",
       "    </tr>\n",
       "    <tr>\n",
       "      <th>2</th>\n",
       "      <td>6675</td>\n",
       "      <td>Paradise Park</td>\n",
       "      <td>really liked it</td>\n",
       "    </tr>\n",
       "    <tr>\n",
       "      <th>3</th>\n",
       "      <td>7027</td>\n",
       "      <td>Paradise Park</td>\n",
       "      <td>liked it</td>\n",
       "    </tr>\n",
       "    <tr>\n",
       "      <th>4</th>\n",
       "      <td>6675</td>\n",
       "      <td>The Dead Fish Museum</td>\n",
       "      <td>it was amazing</td>\n",
       "    </tr>\n",
       "    <tr>\n",
       "      <th>...</th>\n",
       "      <td>...</td>\n",
       "      <td>...</td>\n",
       "      <td>...</td>\n",
       "    </tr>\n",
       "    <tr>\n",
       "      <th>362591</th>\n",
       "      <td>5403</td>\n",
       "      <td>The MacGregors: Alan &amp; Grant (The MacGregors, ...</td>\n",
       "      <td>it was ok</td>\n",
       "    </tr>\n",
       "    <tr>\n",
       "      <th>362592</th>\n",
       "      <td>5403</td>\n",
       "      <td>The MacGregors: Serena &amp; Caine (The MacGregors...</td>\n",
       "      <td>it was ok</td>\n",
       "    </tr>\n",
       "    <tr>\n",
       "      <th>362593</th>\n",
       "      <td>5403</td>\n",
       "      <td>Time and Again: Time Was / Times Change</td>\n",
       "      <td>it was ok</td>\n",
       "    </tr>\n",
       "    <tr>\n",
       "      <th>362594</th>\n",
       "      <td>5403</td>\n",
       "      <td>Dance Upon The Air (Three Sisters Island, #1)</td>\n",
       "      <td>really liked it</td>\n",
       "    </tr>\n",
       "    <tr>\n",
       "      <th>362595</th>\n",
       "      <td>5403</td>\n",
       "      <td>Valley Of Silence (Circle Trilogy, #3)</td>\n",
       "      <td>liked it</td>\n",
       "    </tr>\n",
       "  </tbody>\n",
       "</table>\n",
       "<p>362596 rows × 3 columns</p>\n",
       "</div>"
      ],
      "text/plain": [
       "          ID                                               Name  \\\n",
       "0       6675            Baxter, the Pig Who Wanted to Be Kosher   \n",
       "1       6675                            Set This House in Order   \n",
       "2       6675                                      Paradise Park   \n",
       "3       7027                                      Paradise Park   \n",
       "4       6675                               The Dead Fish Museum   \n",
       "...      ...                                                ...   \n",
       "362591  5403  The MacGregors: Alan & Grant (The MacGregors, ...   \n",
       "362592  5403  The MacGregors: Serena & Caine (The MacGregors...   \n",
       "362593  5403            Time and Again: Time Was / Times Change   \n",
       "362594  5403      Dance Upon The Air (Three Sisters Island, #1)   \n",
       "362595  5403             Valley Of Silence (Circle Trilogy, #3)   \n",
       "\n",
       "                 Rating  \n",
       "0        it was amazing  \n",
       "1       really liked it  \n",
       "2       really liked it  \n",
       "3              liked it  \n",
       "4        it was amazing  \n",
       "...                 ...  \n",
       "362591        it was ok  \n",
       "362592        it was ok  \n",
       "362593        it was ok  \n",
       "362594  really liked it  \n",
       "362595         liked it  \n",
       "\n",
       "[362596 rows x 3 columns]"
      ]
     },
     "execution_count": 46,
     "metadata": {},
     "output_type": "execute_result"
    }
   ],
   "source": [
    "ratings"
   ]
  },
  {
   "cell_type": "code",
   "execution_count": 53,
   "id": "01722aec-c48c-46cc-9890-e646657578b9",
   "metadata": {},
   "outputs": [
    {
     "data": {
      "text/plain": [
       "ID\n",
       "4196    3637\n",
       "4806    3236\n",
       "4693    2736\n",
       "1134    2089\n",
       "284     2052\n",
       "        ... \n",
       "4482       1\n",
       "4460       1\n",
       "4329       1\n",
       "4399       1\n",
       "4492       1\n",
       "Name: count, Length: 8919, dtype: int64"
      ]
     },
     "execution_count": 53,
     "metadata": {},
     "output_type": "execute_result"
    }
   ],
   "source": [
    "ratings[\"ID\"].value_counts()"
   ]
  },
  {
   "cell_type": "code",
   "execution_count": 54,
   "id": "0a97fbe3-2b0d-4a05-b057-c78c755badb5",
   "metadata": {},
   "outputs": [
    {
     "data": {
      "text/plain": [
       "np.float64(40.654333445453524)"
      ]
     },
     "execution_count": 54,
     "metadata": {},
     "output_type": "execute_result"
    }
   ],
   "source": [
    "ratings[\"ID\"].value_counts().mean()"
   ]
  },
  {
   "cell_type": "code",
   "execution_count": 55,
   "id": "61c24cdc-5e11-4240-8896-25536fb63e6c",
   "metadata": {},
   "outputs": [
    {
     "data": {
      "text/plain": [
       "np.float64(1.0)"
      ]
     },
     "execution_count": 55,
     "metadata": {},
     "output_type": "execute_result"
    }
   ],
   "source": [
    "ratings[\"ID\"].value_counts().median()"
   ]
  },
  {
   "cell_type": "code",
   "execution_count": null,
   "id": "24cc8a28-feb9-483a-b6c1-7ecbcf10c1e5",
   "metadata": {},
   "outputs": [],
   "source": []
  }
 ],
 "metadata": {
  "kernelspec": {
   "display_name": "Python 3 (ipykernel)",
   "language": "python",
   "name": "python3"
  },
  "language_info": {
   "codemirror_mode": {
    "name": "ipython",
    "version": 3
   },
   "file_extension": ".py",
   "mimetype": "text/x-python",
   "name": "python",
   "nbconvert_exporter": "python",
   "pygments_lexer": "ipython3",
   "version": "3.12.3"
  }
 },
 "nbformat": 4,
 "nbformat_minor": 5
}
