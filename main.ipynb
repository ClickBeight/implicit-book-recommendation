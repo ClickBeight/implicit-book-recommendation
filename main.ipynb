{
 "cells": [
  {
   "cell_type": "code",
   "execution_count": 90,
   "metadata": {},
   "outputs": [
    {
     "name": "stderr",
     "output_type": "stream",
     "text": [
      "/var/folders/wg/kwksxbdd0wd0x0hjzrpjw1tc0000gq/T/ipykernel_94894/4051256711.py:10: DtypeWarning: Columns (3) have mixed types. Specify dtype option on import or set low_memory=False.\n",
      "  books_df = pd.read_csv(\"data/Books.csv\")  # ~271 k samples\n"
     ]
    },
    {
     "data": {
      "text/plain": [
       "'Summary of Data\\n- Books.csv contains book data points (id is ISBN)\\n- Ratings.csv contains ISBN, user, rating\\n- Users.csv contains user id, location, age\\n'"
      ]
     },
     "execution_count": 90,
     "metadata": {},
     "output_type": "execute_result"
    }
   ],
   "source": [
    "import implicit\n",
    "import pandas as pd\n",
    "from scipy.sparse import csr_matrix\n",
    "import random\n",
    "import numpy as np\n",
    "\n",
    "ratings_df = pd.read_csv(\n",
    "    \"data/Ratings.csv\",\n",
    ")  # ~1.15 mio samples\n",
    "books_df = pd.read_csv(\"data/Books.csv\")  # ~271 k samples\n",
    "\n",
    "isbn_to_index = {isbn: idx for idx, isbn in enumerate(books_df[\"ISBN\"].unique())}\n",
    "user_to_index = {user: idx for idx, user in enumerate(ratings_df[\"user_id\"].unique())}\n",
    "index_to_isbn = {i: isbn for isbn, i in isbn_to_index.items()}\n",
    "\n",
    "ratings_df[\"isbn_idx\"] = ratings_df[\"isbn\"].map(isbn_to_index)\n",
    "ratings_df[\"user_idx\"] = ratings_df[\"user_id\"].map(user_to_index)\n",
    "\n",
    "\"\"\"Summary of Data\n",
    "- Books.csv contains book data points (id is ISBN)\n",
    "- Ratings.csv contains ISBN, user, rating\n",
    "- Users.csv contains user id, location, age\n",
    "\"\"\""
   ]
  },
  {
   "cell_type": "code",
   "execution_count": 91,
   "metadata": {},
   "outputs": [
    {
     "name": "stderr",
     "output_type": "stream",
     "text": [
      "/Users/paul/Desktop/books-data-exploration/venv/lib/python3.12/site-packages/scipy/sparse/_coo.py:59: RuntimeWarning: invalid value encountered in cast\n",
      "  self.coords = tuple(np.array(idx, copy=copy, dtype=idx_dtype)\n"
     ]
    }
   ],
   "source": [
    "# create sparse user-item matrix\n",
    "row_indices = ratings_df[\"user_idx\"].values\n",
    "col_indices = ratings_df[\"isbn_idx\"].values\n",
    "data = ratings_df[\"rating\"].values\n",
    "\n",
    "sparse_user_item_matrix = csr_matrix(\n",
    "    (data, (row_indices, col_indices)), shape=(len(user_to_index), len(isbn_to_index))\n",
    ")"
   ]
  },
  {
   "cell_type": "code",
   "execution_count": 92,
   "metadata": {},
   "outputs": [
    {
     "name": "stderr",
     "output_type": "stream",
     "text": [
      "100%|██████████| 15/15 [00:24<00:00,  1.63s/it]\n"
     ]
    },
    {
     "data": {
      "text/plain": [
       "'Training complete'"
      ]
     },
     "execution_count": 92,
     "metadata": {},
     "output_type": "execute_result"
    }
   ],
   "source": [
    "model = implicit.als.AlternatingLeastSquares(factors=50)\n",
    "model.fit(sparse_user_item_matrix)\n",
    "\"Training complete\""
   ]
  },
  {
   "cell_type": "code",
   "execution_count": 97,
   "metadata": {},
   "outputs": [],
   "source": [
    "def get_similar_books(isbn, n=5):\n",
    "    item_index = isbn_to_index[isbn]\n",
    "    similar_items = model.similar_items(item_index, n)  # returns ([*idxs], [*scores])\n",
    "    similar_books = [\n",
    "        books_df[books_df[\"ISBN\"] == index_to_isbn[idx]] for idx in similar_items[0]\n",
    "    ]\n",
    "    similarities = similar_items[1]\n",
    "    return similar_books, similarities\n",
    "\n",
    "\n",
    "def print_similar_books(isbn, n=5):\n",
    "    recommendations = get_similar_books(isbn)\n",
    "\n",
    "    book = books_df[books_df[\"ISBN\"] == isbn]\n",
    "    book_title = book[\"Book-Title\"].values[0]\n",
    "    similar_books = [\n",
    "        (book[\"Book-Title\"].values[0], float(sim))\n",
    "        for book, sim in zip(*recommendations)\n",
    "    ]\n",
    "\n",
    "    print(book_title, similar_books)\n",
    "\n",
    "\n",
    "def compute_book_similarity(isbn1, isbn2):\n",
    "    index1 = isbn_to_index[isbn1]\n",
    "    index2 = isbn_to_index[isbn2]\n",
    "\n",
    "    vec1 = model.item_factors[index1]\n",
    "    vec2 = model.item_factors[index2]\n",
    "\n",
    "    similarity = np.dot(vec1, vec2) / (np.linalg.norm(vec1) * np.linalg.norm(vec2))\n",
    "    return float(similarity)"
   ]
  },
  {
   "cell_type": "code",
   "execution_count": 101,
   "metadata": {},
   "outputs": [
    {
     "data": {
      "text/plain": [
       "('Oration on the Dignity of Man',\n",
       " [('Oration on the Dignity of Man', 1.0000001192092896),\n",
       "  ('The Communist Manifesto', 0.9999790191650391),\n",
       "  ('The Man Who Mistook His Wife For A Hat : And Other Clinical Tales',\n",
       "   0.9317840933799744),\n",
       "  ('Reading in the Dark : A Novel', 0.7559765577316284),\n",
       "  ('The Gnostic Gospels', 0.704039990901947)])"
      ]
     },
     "execution_count": 101,
     "metadata": {},
     "output_type": "execute_result"
    }
   ],
   "source": [
    "# pass a random book and return similar books\n",
    "isbn = random.choice(list(index_to_isbn.values()))\n",
    "\n",
    "recommendations = get_similar_books(isbn)\n",
    "\n",
    "book = books_df[books_df[\"ISBN\"] == isbn]\n",
    "book_title = book[\"Book-Title\"].values[0]\n",
    "similar_books = [\n",
    "    (book[\"Book-Title\"].values[0], float(sim))\n",
    "    for book, sim in zip(*recommendations)\n",
    "]\n",
    "\n",
    "book_title, similar_books"
   ]
  },
  {
   "cell_type": "code",
   "execution_count": 102,
   "metadata": {},
   "outputs": [
    {
     "data": {
      "text/plain": [
       "(\"Harry Potter and the Sorcerer's Stone (Book 1)\",\n",
       " [(\"Harry Potter and the Sorcerer's Stone (Book 1)\", 0.9999998807907104),\n",
       "  ('Harry Potter and the Chamber of Secrets (Book 2)', 0.973667323589325),\n",
       "  ('Sugar Ray Leonard', 0.966667890548706),\n",
       "  ('Thomas the Tank Engine: The Complete Collection (Railway Series)',\n",
       "   0.9560786485671997),\n",
       "  ('Treasures from the Royal Tombs of Ur', 0.9468263983726501)])"
      ]
     },
     "execution_count": 102,
     "metadata": {},
     "output_type": "execute_result"
    }
   ],
   "source": [
    "# return books similar to Harry Potter 1\n",
    "hp_1_isbn = \"0590353403\"\n",
    "\n",
    "recommendations = get_similar_books(hp_1_isbn)\n",
    "\n",
    "hp_1 = books_df[books_df[\"ISBN\"] == hp_1_isbn]\n",
    "hp_1_title = hp_1[\"Book-Title\"].values[0]\n",
    "similar_books = [\n",
    "    (book[\"Book-Title\"].values[0], float(sim)) for book, sim in zip(*recommendations)\n",
    "]\n",
    "hp_1_title, similar_books"
   ]
  },
  {
   "cell_type": "code",
   "execution_count": 103,
   "metadata": {},
   "outputs": [
    {
     "data": {
      "text/plain": [
       "('The Power of Now: A Guide to Spiritual Enlightenment',\n",
       " [('The Power of Now: A Guide to Spiritual Enlightenment', 0.9999999403953552),\n",
       "  ('The Rose Window and Other Verse from New Poems', 0.8080865144729614),\n",
       "  ('Kundun: A Biography of the Family of the Dalai Lama', 0.8080853223800659),\n",
       "  ('Karma and Reincarnation: Transcending Your Past, Transforming Your Future (Pocket Guides to Practical Spirituality Series)',\n",
       "   0.7722973227500916),\n",
       "  ('Empowerment Through Reiki', 0.7714309096336365)])"
      ]
     },
     "execution_count": 103,
     "metadata": {},
     "output_type": "execute_result"
    }
   ],
   "source": [
    "pon_isbn = \"1577311523\"\n",
    "\n",
    "recommendations = get_similar_books(pon_isbn)\n",
    "\n",
    "pon = books_df[books_df[\"ISBN\"] == pon_isbn]\n",
    "pon_title = pon[\"Book-Title\"].values[0]\n",
    "similar_books = [\n",
    "    (book[\"Book-Title\"].values[0], float(sim)) for book, sim in zip(*recommendations)\n",
    "]\n",
    "pon_title, similar_books"
   ]
  },
  {
   "cell_type": "code",
   "execution_count": 104,
   "metadata": {},
   "outputs": [
    {
     "name": "stdout",
     "output_type": "stream",
     "text": [
      "0.6051822900772095\n",
      "0.4695863127708435\n"
     ]
    }
   ],
   "source": [
    "# compare Dune 1 to Dune 2\n",
    "dune_1_isbn = \"0425080021\"\n",
    "dune_2_isbn = \"0441172695\"\n",
    "\n",
    "similarity = compute_book_similarity(dune_1_isbn, dune_2_isbn)\n",
    "print(similarity)\n",
    "\n",
    "# compare LOTR 2 to Dune 1\n",
    "lotr_2_isbn = \"0345339711\"\n",
    "similarity = compute_book_similarity(dune_1_isbn, lotr_2_isbn)\n",
    "print(similarity)"
   ]
  },
  {
   "cell_type": "code",
   "execution_count": 105,
   "metadata": {},
   "outputs": [
    {
     "name": "stderr",
     "output_type": "stream",
     "text": [
      "/var/folders/wg/kwksxbdd0wd0x0hjzrpjw1tc0000gq/T/ipykernel_94894/18298288.py:9: SettingWithCopyWarning: \n",
      "A value is trying to be set on a copy of a slice from a DataFrame.\n",
      "Try using .loc[row_indexer,col_indexer] = value instead\n",
      "\n",
      "See the caveats in the documentation: https://pandas.pydata.org/pandas-docs/stable/user_guide/indexing.html#returning-a-view-versus-a-copy\n",
      "  latent_factors_df[\"embedding\"] = latent_factors_df[\"ISBN\"].map(isbn_to_embedding)\n"
     ]
    }
   ],
   "source": [
    "# create new .csv with isbn, title, author, embedding\n",
    "item_factors = model.item_factors\n",
    "isbn_to_embedding = {\n",
    "    isbn: item_factors[isbn_to_index[isbn]]\n",
    "    for isbn in isbn_to_index.keys()\n",
    "    if isbn_to_index[isbn] < len(item_factors)\n",
    "}\n",
    "latent_factors_df = books_df[[\"ISBN\", \"Book-Title\", \"Book-Author\"]]\n",
    "latent_factors_df[\"embedding\"] = latent_factors_df[\"ISBN\"].map(isbn_to_embedding)\n",
    "\n",
    "# save to CSV\n",
    "latent_factors_df.to_csv(\"data/books_with_embeddings.csv\", index=False)"
   ]
  }
 ],
 "metadata": {
  "kernelspec": {
   "display_name": "venv",
   "language": "python",
   "name": "python3"
  },
  "language_info": {
   "codemirror_mode": {
    "name": "ipython",
    "version": 3
   },
   "file_extension": ".py",
   "mimetype": "text/x-python",
   "name": "python",
   "nbconvert_exporter": "python",
   "pygments_lexer": "ipython3",
   "version": "3.12.3"
  }
 },
 "nbformat": 4,
 "nbformat_minor": 2
}
