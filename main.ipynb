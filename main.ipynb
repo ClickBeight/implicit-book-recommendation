{
 "cells": [
  {
   "cell_type": "code",
   "execution_count": 1,
   "metadata": {},
   "outputs": [
    {
     "name": "stderr",
     "output_type": "stream",
     "text": [
      "/Users/paul/Documents/Uni/M.Sc. CogSys/2. Semester/Programming With LLMs/implicit-book-recommendation/venv/lib/python3.12/site-packages/tqdm/auto.py:21: TqdmWarning: IProgress not found. Please update jupyter and ipywidgets. See https://ipywidgets.readthedocs.io/en/stable/user_install.html\n",
      "  from .autonotebook import tqdm as notebook_tqdm\n"
     ]
    },
    {
     "data": {
      "text/plain": [
       "'Summary of Amazon Data\\n- Books from books_data.csv and Books_rating are connected via title\\n'"
      ]
     },
     "execution_count": 1,
     "metadata": {},
     "output_type": "execute_result"
    }
   ],
   "source": [
    "import implicit\n",
    "import pandas as pd\n",
    "from scipy.sparse import csr_matrix\n",
    "import random\n",
    "import numpy as np\n",
    "\n",
    "data_dir = \"archive\"\n",
    "\n",
    "ratings_df = pd.read_csv(\n",
    "    f\"{data_dir}/Books_rating.csv\",\n",
    ")\n",
    "books_df = pd.read_csv(f\"{data_dir}/books_data.csv\")\n",
    "\n",
    "title_to_index = {\n",
    "    title: idx for idx, title in enumerate(books_df[\"Title\"].unique())\n",
    "}  # covers all isbns from books\n",
    "user_to_index = {\n",
    "    user: idx for idx, user in enumerate(ratings_df[\"User_id\"].unique())\n",
    "}  # covers all users from ratings\n",
    "\n",
    "# create indices of books in df\n",
    "ratings_df[\"title_idx\"] = ratings_df[\"Title\"].map(title_to_index)\n",
    "books_df[\"title_idx\"] = books_df[\"Title\"].map(title_to_index)\n",
    "\n",
    "# create indices of users in df\n",
    "ratings_df[\"user_idx\"] = ratings_df[\"User_id\"].map(user_to_index)\n",
    "\n",
    "\"\"\"Summary of Kaggle Data\n",
    "- Books.csv contains all books rated in Ratings.csv, format: ISBN, Book-Title, Book-Author, ...\n",
    "- Ratings.csv contains all ratings, format: user_id, isbn, rating\n",
    "- Users.csv contains information about the users linked to ratings, format: User-ID, Location, Age\n",
    "\"\"\"\n",
    "\n",
    "\"\"\"Summary of Amazon Data\n",
    "- Books from books_data.csv and Books_rating are connected via title\n",
    "\"\"\""
   ]
  },
  {
   "cell_type": "code",
   "execution_count": 2,
   "metadata": {},
   "outputs": [],
   "source": [
    "# create sparse user-item matrix\n",
    "row_indices = ratings_df[\"user_idx\"].values\n",
    "col_indices = ratings_df[\"title_idx\"].values\n",
    "data = ratings_df[\"review/score\"].values\n",
    "\n",
    "# compressed sparse row matrix, as desired by `implicit`\n",
    "sparse_user_item_matrix = csr_matrix(\n",
    "    (data, (row_indices, col_indices)), shape=(len(user_to_index), len(title_to_index))\n",
    ")"
   ]
  },
  {
   "cell_type": "code",
   "execution_count": 3,
   "metadata": {},
   "outputs": [
    {
     "name": "stderr",
     "output_type": "stream",
     "text": [
      "/Users/paul/Documents/Uni/M.Sc. CogSys/2. Semester/Programming With LLMs/implicit-book-recommendation/venv/lib/python3.12/site-packages/implicit/cpu/als.py:95: RuntimeWarning: OpenBLAS is configured to use 8 threads. It is highly recommended to disable its internal threadpool by setting the environment variable 'OPENBLAS_NUM_THREADS=1' or by calling 'threadpoolctl.threadpool_limits(1, \"blas\")'. Having OpenBLAS use a threadpool can lead to severe performance issues here.\n",
      "  check_blas_config()\n",
      "100%|██████████| 15/15 [01:13<00:00,  4.88s/it]\n"
     ]
    },
    {
     "data": {
      "text/plain": [
       "'Training complete'"
      ]
     },
     "execution_count": 3,
     "metadata": {},
     "output_type": "execute_result"
    }
   ],
   "source": [
    "model = implicit.als.AlternatingLeastSquares(factors=50)\n",
    "model.fit(sparse_user_item_matrix)\n",
    "\"Training complete\""
   ]
  },
  {
   "cell_type": "code",
   "execution_count": 7,
   "metadata": {},
   "outputs": [],
   "source": [
    "def get_book_recommendations(title, n=10):\n",
    "    title_idx = title_to_index[title]\n",
    "    similar_items, scores = model.similar_items(\n",
    "        title_idx, n\n",
    "    )  # returns ([*idxs], [*scores])\n",
    "    recommendations = [books_df[books_df[\"title_idx\"] == idx] for idx in similar_items]\n",
    "    return recommendations, scores\n",
    "\n",
    "\n",
    "def compute_recommendation_score(title1, title2):\n",
    "    title_idx_1 = title_to_index[title1]\n",
    "    title_idx_2 = title_to_index[title2]\n",
    "\n",
    "    embedding_1 = model.item_factors[title_idx_1]\n",
    "    embedding_2 = model.item_factors[title_idx_2]\n",
    "\n",
    "    similarity = float(\n",
    "        np.dot(embedding_1, embedding_2)\n",
    "        / (np.linalg.norm(embedding_1) * np.linalg.norm(embedding_2))\n",
    "    )\n",
    "    return similarity"
   ]
  },
  {
   "cell_type": "code",
   "execution_count": 10,
   "metadata": {},
   "outputs": [
    {
     "data": {
      "text/plain": [
       "('Change Agents Guide to Innovation in Education',\n",
       " [('Change Agents Guide to Innovation in Education', 1.0000001192092896),\n",
       "  ('How Leo Learned to Be King', 0.9387609362602234),\n",
       "  ('Good City Form', 0.9358565211296082),\n",
       "  ('BLADUD OF BATH: THE BRITISH KING WHO TRIED TO FLY: EXTRACTS FROM OLD CHRONICLES AND HISTORIES RELATING TO BLADUD, THE NINTH KING OF ENGLAND, TOGETHER WITH SEVERAL PORTRAITS.',\n",
       "   0.935764729976654),\n",
       "  ('A guide to Arkansas horse trails', 0.9332634210586548),\n",
       "  ('Reflections on the Jesus Prayer', 0.9322771430015564),\n",
       "  ('Yamaha Xt350 & Tt350 1985-2000 (Clymer Motorcycle Repair)',\n",
       "   0.9314846396446228),\n",
       "  ('Released to Reign', 0.9310274720191956),\n",
       "  (\"Imagining Philadelphia: Travelers' Views of the City from 1800 to the Present\",\n",
       "   0.9304955005645752),\n",
       "  ('Pink Floyd: Bricks in the Wall', 0.929036557674408)])"
      ]
     },
     "execution_count": 10,
     "metadata": {},
     "output_type": "execute_result"
    }
   ],
   "source": [
    "# pass a random book from Books.csv and return similar books\n",
    "book_title = random.choice(list(title_to_index.keys()))\n",
    "\n",
    "recommendations, scores = get_book_recommendations(book_title)\n",
    "\n",
    "book_title = books_df[books_df[\"Title\"] == book_title]\n",
    "book_title = book_title[\"Title\"].values[0]\n",
    "similar_books_formatted = [\n",
    "    (similar_book[\"Title\"].values[0], float(sim))\n",
    "    for similar_book, sim in zip(recommendations, scores)\n",
    "]\n",
    "\n",
    "book_title, similar_books_formatted"
   ]
  },
  {
   "cell_type": "code",
   "execution_count": 11,
   "metadata": {},
   "outputs": [
    {
     "data": {
      "text/plain": [
       "(\"Harry Potter and The Sorcerer's Stone\",\n",
       " [(\"Harry Potter and The Sorcerer's Stone\", 1.0),\n",
       "  ('God and Production in a Guatemalan Town (Texas Pan American Series)',\n",
       "   0.9932220578193665),\n",
       "  (\"Killer Clown of King's County (Bone Chillers)\", 0.9927816987037659),\n",
       "  ('Dido and Aeneas', 0.9927751421928406),\n",
       "  ('Letterman Wit: His Life and Humor', 0.9927705526351929),\n",
       "  ('The Mystic Coast: A Photographic Portrait', 0.9927697777748108),\n",
       "  ('The Wayside Motor Inn: A play in two acts', 0.9927555918693542),\n",
       "  ('Consider the Lilies of the Field: a Novel', 0.9927428960800171),\n",
       "  ('Getaways For Gourmets In The Northeast', 0.9927042722702026),\n",
       "  ('Speak to the earth;: Wanderings and reflections among elephants and mountains,',\n",
       "   0.9926993250846863)])"
      ]
     },
     "execution_count": 11,
     "metadata": {},
     "output_type": "execute_result"
    }
   ],
   "source": [
    "# return books similar to Harry Potter 1 by J. K. Rowling\n",
    "book_title = \"Harry Potter and The Sorcerer's Stone\"\n",
    "\n",
    "recommendations = get_book_recommendations(book_title)\n",
    "\n",
    "hp_1 = books_df[books_df[\"Title\"] == book_title]\n",
    "hp_1_title = hp_1[\"Title\"].values[0]\n",
    "recommendations = [\n",
    "    (book[\"Title\"].values[0], float(sim)) for book, sim in zip(*recommendations)\n",
    "]\n",
    "hp_1_title, recommendations"
   ]
  },
  {
   "cell_type": "code",
   "execution_count": 12,
   "metadata": {},
   "outputs": [
    {
     "data": {
      "text/plain": [
       "('The Hobbit',\n",
       " [('The Hobbit', 0.9999998807907104),\n",
       "  ('The Hobbit There and Back Again', 0.9997938871383667),\n",
       "  ('The Hobbitt, or there and back again; illustrated by the author.',\n",
       "   0.9997845888137817),\n",
       "  ('The Hobbit; Or, There and Back Again', 0.9997667074203491),\n",
       "  ('The Hobbit or There and Back Again', 0.9997621178627014),\n",
       "  ('Pagan Tarot Kit (English and Spanish Edition)', 0.9846198558807373),\n",
       "  (\"Santa Claus's partner\", 0.9838884472846985),\n",
       "  ('The Phone Book: Telephone Skills for Business Success Student Text',\n",
       "   0.9838793873786926),\n",
       "  ('Starting And Running A B And B (2Ed)', 0.98387211561203),\n",
       "  ('Duel of Wits', 0.983867347240448)])"
      ]
     },
     "execution_count": 12,
     "metadata": {},
     "output_type": "execute_result"
    }
   ],
   "source": [
    "# return books similar to New Earth by Eckhart Tolle\n",
    "book_title = \"The Hobbit\"\n",
    "\n",
    "recommendations = get_book_recommendations(book_title)\n",
    "\n",
    "pon = books_df[books_df[\"Title\"] == book_title]\n",
    "pon_title = pon[\"Title\"].values[0]\n",
    "recommendations = [\n",
    "    (book[\"Title\"].values[0], float(sim)) for book, sim in zip(*recommendations)\n",
    "]\n",
    "pon_title, recommendations"
   ]
  },
  {
   "cell_type": "code",
   "execution_count": 13,
   "metadata": {},
   "outputs": [
    {
     "name": "stdout",
     "output_type": "stream",
     "text": [
      "0.9560022354125977\n",
      "0.14164608716964722\n",
      "0.05507197231054306\n",
      "0.3168710470199585\n"
     ]
    }
   ],
   "source": [
    "# compare HP 1 to HP 2 (expecting high similarity)\n",
    "hp_1 = \"Harry Potter and The Sorcerer's Stone\"\n",
    "hp_2 = \"Harry Potter and the Chamber of Secrets\"\n",
    "\n",
    "similarity = compute_recommendation_score(hp_1, hp_2)\n",
    "print(similarity)\n",
    "\n",
    "# compare HP 1 to LOTR (expecting moderate similarity)\n",
    "lotr = \"The Fellowship of the Ring\"\n",
    "similarity = compute_recommendation_score(hp_1, lotr)\n",
    "print(similarity)\n",
    "\n",
    "# compare HP 1 to New Earth (expecting low similarity)\n",
    "new_earth = \"NEW EARTH\"\n",
    "similarity = compute_recommendation_score(hp_1, new_earth)\n",
    "print(similarity)\n",
    "\n",
    "# compare How to Win Friends and Influence People to Seven Habits of Highly Effective People (expecting high similarity)\n",
    "htwf = \"How to Win Friends & Influence People (Cardinal Editions, C 303)\"\n",
    "seven_habits = \"The 7 Habits of Highly Effective People (50 card deck)\"\n",
    "similarity = compute_recommendation_score(htwf, seven_habits)\n",
    "print(similarity)"
   ]
  },
  {
   "cell_type": "code",
   "execution_count": 48,
   "metadata": {},
   "outputs": [
    {
     "name": "stderr",
     "output_type": "stream",
     "text": [
      "/var/folders/wg/kwksxbdd0wd0x0hjzrpjw1tc0000gq/T/ipykernel_12202/3937863412.py:8: SettingWithCopyWarning: \n",
      "A value is trying to be set on a copy of a slice from a DataFrame.\n",
      "Try using .loc[row_indexer,col_indexer] = value instead\n",
      "\n",
      "See the caveats in the documentation: https://pandas.pydata.org/pandas-docs/stable/user_guide/indexing.html#returning-a-view-versus-a-copy\n",
      "  latent_factors_df[\"embedding\"] = latent_factors_df[\"Title\"].map(isbn_to_embedding)\n"
     ]
    }
   ],
   "source": [
    "# create new .csv with isbn, title, author, embedding\n",
    "item_factors = model.item_factors\n",
    "isbn_to_embedding = {\n",
    "    isbn: item_factors[title_to_index[isbn]] for isbn in title_to_index.keys()\n",
    "}\n",
    "latent_factors_df = books_df[[\"Title\", \"authors\"]]\n",
    "latent_factors_df[\"embedding\"] = latent_factors_df[\"Title\"].map(isbn_to_embedding)\n",
    "\n",
    "# save books_with_embeddings.csv\n",
    "latent_factors_df.to_csv(f\"{data_dir}/books_with_embeddings.csv\", index=False)"
   ]
  }
 ],
 "metadata": {
  "kernelspec": {
   "display_name": "venv",
   "language": "python",
   "name": "python3"
  },
  "language_info": {
   "codemirror_mode": {
    "name": "ipython",
    "version": 3
   },
   "file_extension": ".py",
   "mimetype": "text/x-python",
   "name": "python",
   "nbconvert_exporter": "python",
   "pygments_lexer": "ipython3",
   "version": "3.12.3"
  }
 },
 "nbformat": 4,
 "nbformat_minor": 2
}
