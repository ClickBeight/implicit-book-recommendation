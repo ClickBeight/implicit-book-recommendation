{
 "cells": [
  {
   "cell_type": "code",
   "execution_count": 14,
   "metadata": {},
   "outputs": [
    {
     "name": "stderr",
     "output_type": "stream",
     "text": [
      "/var/folders/wg/kwksxbdd0wd0x0hjzrpjw1tc0000gq/T/ipykernel_5023/1803029618.py:10: DtypeWarning: Columns (3) have mixed types. Specify dtype option on import or set low_memory=False.\n",
      "  books_df = pd.read_csv(\"data/Books.csv\")  # ~271 k samples\n"
     ]
    },
    {
     "data": {
      "text/plain": [
       "'Summary of Data\\n- Books.csv contains all books rated in Ratings.csv, format: ISBN, Book-Title, Book-Author, ...\\n- Ratings.csv contains all ratings, format: user_id, isbn, rating\\n- Users.csv contains information about the users linked to ratings, format: User-ID, Location, Age\\n'"
      ]
     },
     "execution_count": 14,
     "metadata": {},
     "output_type": "execute_result"
    }
   ],
   "source": [
    "import implicit\n",
    "import pandas as pd\n",
    "from scipy.sparse import csr_matrix\n",
    "import random\n",
    "import numpy as np\n",
    "\n",
    "ratings_df = pd.read_csv(\n",
    "    \"data/Ratings.csv\",\n",
    ")  # ~1.15 mio samples\n",
    "books_df = pd.read_csv(\"data/Books.csv\")  # ~271 k samples\n",
    "\n",
    "isbn_to_index = {isbn: idx for idx, isbn in enumerate(books_df[\"ISBN\"].unique())} # covers all isbns from books\n",
    "user_to_index = {user: idx for idx, user in enumerate(ratings_df[\"user_id\"].unique())} # covers all users from ratings\n",
    "index_to_isbn = {i: isbn for isbn, i in isbn_to_index.items()} # contains \n",
    "\n",
    "# create indices of books in df\n",
    "ratings_df[\"isbn_idx\"] = ratings_df[\"isbn\"].map(isbn_to_index) \n",
    "books_df[\"isbn_idx\"] = books_df[\"ISBN\"].map(isbn_to_index)\n",
    "\n",
    "# create indices of users in df\n",
    "ratings_df[\"user_idx\"] = ratings_df[\"user_id\"].map(user_to_index) \n",
    "\n",
    "\"\"\"Summary of Data\n",
    "- Books.csv contains all books rated in Ratings.csv, format: ISBN, Book-Title, Book-Author, ...\n",
    "- Ratings.csv contains all ratings, format: user_id, isbn, rating\n",
    "- Users.csv contains information about the users linked to ratings, format: User-ID, Location, Age\n",
    "\"\"\""
   ]
  },
  {
   "cell_type": "code",
   "execution_count": 15,
   "metadata": {},
   "outputs": [
    {
     "name": "stderr",
     "output_type": "stream",
     "text": [
      "/Users/paul/Documents/Uni/M.Sc. CogSys/2. Semester/Programming With LLMs/book-recommender/venv/lib/python3.12/site-packages/scipy/sparse/_coo.py:59: RuntimeWarning: invalid value encountered in cast\n",
      "  self.coords = tuple(np.array(idx, copy=copy, dtype=idx_dtype)\n"
     ]
    }
   ],
   "source": [
    "# create sparse user-item matrix\n",
    "row_indices = ratings_df[\"user_idx\"].values\n",
    "col_indices = ratings_df[\"isbn_idx\"].values\n",
    "data = ratings_df[\"rating\"].values\n",
    "\n",
    "# compressed sparse row matrix, as desired by `implicit`\n",
    "sparse_user_item_matrix = csr_matrix(\n",
    "    (data, (row_indices, col_indices)), shape=(len(user_to_index), len(isbn_to_index))\n",
    ")"
   ]
  },
  {
   "cell_type": "code",
   "execution_count": 16,
   "metadata": {},
   "outputs": [
    {
     "name": "stderr",
     "output_type": "stream",
     "text": [
      "100%|██████████| 15/15 [00:24<00:00,  1.63s/it]\n"
     ]
    },
    {
     "data": {
      "text/plain": [
       "'Training complete'"
      ]
     },
     "execution_count": 16,
     "metadata": {},
     "output_type": "execute_result"
    }
   ],
   "source": [
    "model = implicit.als.AlternatingLeastSquares(factors=50)\n",
    "model.fit(sparse_user_item_matrix)\n",
    "\"Training complete\""
   ]
  },
  {
   "cell_type": "code",
   "execution_count": 17,
   "metadata": {},
   "outputs": [],
   "source": [
    "def get_similar_books(isbn, n=5):\n",
    "    isbn_idx = isbn_to_index[isbn]\n",
    "    similar_items, similarities = model.similar_items(isbn_idx, n)  # returns ([*idxs], [*scores])\n",
    "    similar_books = [\n",
    "        books_df[books_df[\"isbn_idx\"] == idx] for idx in similar_items\n",
    "    ]\n",
    "    return similar_books, similarities\n",
    "\n",
    "def compute_book_similarity(isbn1, isbn2):\n",
    "    isbn_idx_1 = isbn_to_index[isbn1]\n",
    "    isbn_idx_2 = isbn_to_index[isbn2]\n",
    "\n",
    "    embedding_1 = model.item_factors[isbn_idx_1]\n",
    "    embedding_2 = model.item_factors[isbn_idx_2]\n",
    "\n",
    "    similarity = np.dot(embedding_1, embedding_2) / (np.linalg.norm(embedding_1) * np.linalg.norm(embedding_2))\n",
    "    return float(similarity)"
   ]
  },
  {
   "cell_type": "code",
   "execution_count": 18,
   "metadata": {},
   "outputs": [
    {
     "data": {
      "text/plain": [
       "('Cupid Connection  (By Request) (Harlequin by Request)',\n",
       " [('Cupid Connection  (By Request) (Harlequin by Request)',\n",
       "   1.0000001192092896),\n",
       "  ('Grand reportage', 0.9999961256980896),\n",
       "  ('Funny Cats', 0.9999956488609314),\n",
       "  ('Virus', 0.9999955296516418),\n",
       "  ('A Scandalous Engagement (Thorndike Harlequin I Romance)',\n",
       "   0.9999952912330627)])"
      ]
     },
     "execution_count": 18,
     "metadata": {},
     "output_type": "execute_result"
    }
   ],
   "source": [
    "# pass a random book from Books.csv and return similar books\n",
    "isbn = random.choice(list(index_to_isbn.values()))\n",
    "\n",
    "similar_books, similarities = get_similar_books(isbn)\n",
    "\n",
    "book = books_df[books_df[\"ISBN\"] == isbn]\n",
    "book_title = book[\"Book-Title\"].values[0]\n",
    "similar_books_formatted = [\n",
    "    (similar_book[\"Book-Title\"].values[0], float(sim))\n",
    "    for similar_book, sim in zip(similar_books, similarities)\n",
    "]\n",
    "\n",
    "book_title, similar_books_formatted"
   ]
  },
  {
   "cell_type": "code",
   "execution_count": 19,
   "metadata": {},
   "outputs": [
    {
     "data": {
      "text/plain": [
       "(\"Harry Potter and the Sorcerer's Stone (Book 1)\",\n",
       " [(\"Harry Potter and the Sorcerer's Stone (Book 1)\", 1.0),\n",
       "  ('Sugar Ray Leonard', 0.9683141112327576),\n",
       "  ('Harry Potter and the Chamber of Secrets (Book 2)', 0.9617767333984375),\n",
       "  ('Treasures from the Royal Tombs of Ur', 0.9547505378723145),\n",
       "  ('Thomas the Tank Engine: The Complete Collection (Railway Series)',\n",
       "   0.952839732170105)])"
      ]
     },
     "execution_count": 19,
     "metadata": {},
     "output_type": "execute_result"
    }
   ],
   "source": [
    "# return books similar to Harry Potter 1 by J. K. Rowling\n",
    "hp_1_isbn = \"0590353403\"\n",
    "\n",
    "recommendations = get_similar_books(hp_1_isbn)\n",
    "\n",
    "hp_1 = books_df[books_df[\"ISBN\"] == hp_1_isbn]\n",
    "hp_1_title = hp_1[\"Book-Title\"].values[0]\n",
    "similar_books = [\n",
    "    (book[\"Book-Title\"].values[0], float(sim)) for book, sim in zip(*recommendations)\n",
    "]\n",
    "hp_1_title, similar_books"
   ]
  },
  {
   "cell_type": "code",
   "execution_count": 20,
   "metadata": {},
   "outputs": [
    {
     "data": {
      "text/plain": [
       "('The Power of Now: A Guide to Spiritual Enlightenment',\n",
       " [('The Power of Now: A Guide to Spiritual Enlightenment', 1.0),\n",
       "  ('Empowerment Through Reiki', 0.8555602431297302),\n",
       "  ('Astral Travel for Beginners (For Beginners)', 0.8470998406410217),\n",
       "  ('Elementary Tarot', 0.8458982110023499),\n",
       "  ('Everyday Grace: Having Hope, Finding Forgiveness, and Making Miracles',\n",
       "   0.8441833853721619)])"
      ]
     },
     "execution_count": 20,
     "metadata": {},
     "output_type": "execute_result"
    }
   ],
   "source": [
    "# return books similar to The Power Of Now by Eckhart Tolle\n",
    "pon_isbn = \"1577311523\"\n",
    "\n",
    "recommendations = get_similar_books(pon_isbn)\n",
    "\n",
    "pon = books_df[books_df[\"ISBN\"] == pon_isbn]\n",
    "pon_title = pon[\"Book-Title\"].values[0]\n",
    "similar_books = [\n",
    "    (book[\"Book-Title\"].values[0], float(sim)) for book, sim in zip(*recommendations)\n",
    "]\n",
    "pon_title, similar_books"
   ]
  },
  {
   "cell_type": "code",
   "execution_count": 21,
   "metadata": {},
   "outputs": [
    {
     "name": "stdout",
     "output_type": "stream",
     "text": [
      "0.5740084648132324\n",
      "0.31848710775375366\n",
      "0.018669774755835533\n"
     ]
    }
   ],
   "source": [
    "# compare Dune 1 to Dune 2 (expecting high similarity)\n",
    "dune_1_isbn = \"0425080021\"\n",
    "dune_2_isbn = \"0441172695\"\n",
    "\n",
    "similarity = compute_book_similarity(dune_1_isbn, dune_2_isbn)\n",
    "print(similarity)\n",
    "\n",
    "# compare Dune 1 to LOTR 1 (expecting moderate similarity)\n",
    "lotr_1_isbn = \"0345339703\"\n",
    "similarity = compute_book_similarity(dune_1_isbn, lotr_1_isbn)\n",
    "print(similarity)\n",
    "\n",
    "# compare Dune 1 to The Power Of Now (expecting low similarity)\n",
    "pon_isbn = \"1577311523\"\n",
    "similarity = compute_book_similarity(dune_1_isbn, pon_isbn)\n",
    "print(similarity)"
   ]
  },
  {
   "cell_type": "code",
   "execution_count": 22,
   "metadata": {},
   "outputs": [
    {
     "name": "stderr",
     "output_type": "stream",
     "text": [
      "/var/folders/wg/kwksxbdd0wd0x0hjzrpjw1tc0000gq/T/ipykernel_5023/1564390420.py:8: SettingWithCopyWarning: \n",
      "A value is trying to be set on a copy of a slice from a DataFrame.\n",
      "Try using .loc[row_indexer,col_indexer] = value instead\n",
      "\n",
      "See the caveats in the documentation: https://pandas.pydata.org/pandas-docs/stable/user_guide/indexing.html#returning-a-view-versus-a-copy\n",
      "  latent_factors_df[\"embedding\"] = latent_factors_df[\"ISBN\"].map(isbn_to_embedding)\n"
     ]
    }
   ],
   "source": [
    "# create new .csv with isbn, title, author, embedding\n",
    "item_factors = model.item_factors\n",
    "isbn_to_embedding = {\n",
    "    isbn: item_factors[isbn_to_index[isbn]]\n",
    "    for isbn in isbn_to_index.keys()\n",
    "}\n",
    "latent_factors_df = books_df[[\"ISBN\", \"Book-Title\", \"Book-Author\"]]\n",
    "latent_factors_df[\"embedding\"] = latent_factors_df[\"ISBN\"].map(isbn_to_embedding)\n",
    "\n",
    "# save books_with_embeddings.csv\n",
    "latent_factors_df.to_csv(\"data/books_with_embeddings.csv\", index=False)"
   ]
  }
 ],
 "metadata": {
  "kernelspec": {
   "display_name": "venv",
   "language": "python",
   "name": "python3"
  },
  "language_info": {
   "codemirror_mode": {
    "name": "ipython",
    "version": 3
   },
   "file_extension": ".py",
   "mimetype": "text/x-python",
   "name": "python",
   "nbconvert_exporter": "python",
   "pygments_lexer": "ipython3",
   "version": "3.12.3"
  }
 },
 "nbformat": 4,
 "nbformat_minor": 2
}
